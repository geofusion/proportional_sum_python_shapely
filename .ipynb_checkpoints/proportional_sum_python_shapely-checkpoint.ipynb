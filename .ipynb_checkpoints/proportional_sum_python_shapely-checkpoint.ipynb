{
 "cells": [
  {
   "cell_type": "code",
   "execution_count": 1,
   "metadata": {},
   "outputs": [],
   "source": [
    "import requests\n",
    "import pandas as pd\n",
    "import json\n",
    "from tqdm import tqdm_notebook"
   ]
  },
  {
   "cell_type": "code",
   "execution_count": 2,
   "metadata": {},
   "outputs": [],
   "source": [
    "url = 'http://staging.k8s.internal.geofusion/solr/area/select?indent=on&q=ufmun_cod:%20%22355030%22,%20codCamada:%20%221129%22&wt=json&fl=identifier_kw_s_obj,showAsWkt(geom),RendNominal_kw_d_obj,domicilios_kw_d_obj,mbrMin,mbrMax&rows=100000'"
   ]
  },
  {
   "cell_type": "code",
   "execution_count": 3,
   "metadata": {},
   "outputs": [],
   "source": [
    "response = requests.get(url)"
   ]
  },
  {
   "cell_type": "code",
   "execution_count": 4,
   "metadata": {},
   "outputs": [],
   "source": [
    "setores = json.loads(response.text)['response']['docs']"
   ]
  },
  {
   "cell_type": "code",
   "execution_count": 5,
   "metadata": {},
   "outputs": [
    {
     "data": {
      "text/plain": [
       "dict_keys(['identifier_kw_s_obj', 'domicilios_kw_d_obj', 'RendNominal_kw_d_obj', 'mbrMin', 'mbrMax', 'showAsWkt(geom)'])"
      ]
     },
     "execution_count": 5,
     "metadata": {},
     "output_type": "execute_result"
    }
   ],
   "source": [
    "setores[0].keys()"
   ]
  },
  {
   "cell_type": "code",
   "execution_count": 6,
   "metadata": {},
   "outputs": [
    {
     "data": {
      "application/vnd.jupyter.widget-view+json": {
       "model_id": "0179a11c363c4c409b185ed576c1799e",
       "version_major": 2,
       "version_minor": 0
      },
      "text/plain": [
       "HBox(children=(IntProgress(value=0, max=18953), HTML(value='')))"
      ]
     },
     "metadata": {},
     "output_type": "display_data"
    },
    {
     "name": "stdout",
     "output_type": "stream",
     "text": [
      "\n"
     ]
    }
   ],
   "source": [
    "lista_series = []\n",
    "for setor in tqdm_notebook(setores):\n",
    "    serie = pd.Series()\n",
    "    if 'RendNominal_kw_d_obj' in list(setor.keys()) and 'domicilios_kw_d_obj' in list(setor.keys()):\n",
    "        serie['id'] = setor['identifier_kw_s_obj']\n",
    "        serie['renda_nominal'] = setor['RendNominal_kw_d_obj']*1.1\n",
    "        serie['domicilios'] = setor['domicilios_kw_d_obj']*0.9\n",
    "        serie['renda_media'] = serie['renda_nominal']/serie['domicilios']\n",
    "    else:\n",
    "        serie['id'] = setor['identifier_kw_s_obj']\n",
    "        serie['renda_nominal'] = 0\n",
    "        serie['domicilios'] = 0\n",
    "        serie['renda_media'] = 0\n",
    "    serie['geom'] = setor['showAsWkt(geom)']\n",
    "    lista_series.append(serie)\n",
    "df_setores_renda = pd.DataFrame(lista_series)"
   ]
  },
  {
   "cell_type": "code",
   "execution_count": 56,
   "metadata": {},
   "outputs": [
    {
     "data": {
      "text/plain": [
       "'POLYGON ((-46.6689474 -23.65285023, -46.66864212 -23.65333101, -46.66834584 -23.65366698, -46.66730184 -23.65445799, -46.66714308 -23.65461099, -46.66674204 -23.65512003, -46.66660488 -23.654997, -46.66615416 -23.65446501, -46.66592484 -23.65460901, -46.66501008 -23.65345701, -46.66497984 -23.65335801, -46.66589712 -23.65270497, -46.66521888 -23.65184898, -46.66704192 -23.650632, -46.66876092 -23.652729, -46.6689474 -23.65285023))'"
      ]
     },
     "execution_count": 56,
     "metadata": {},
     "output_type": "execute_result"
    }
   ],
   "source": [
    "df_setores_renda['geom'][0]"
   ]
  },
  {
   "cell_type": "code",
   "execution_count": 7,
   "metadata": {},
   "outputs": [
    {
     "data": {
      "text/plain": [
       "shapely.geometry.polygon.Polygon"
      ]
     },
     "execution_count": 7,
     "metadata": {},
     "output_type": "execute_result"
    }
   ],
   "source": [
    "from shapely.wkt import loads\n",
    "type(loads(df_setores_renda['geom'][0]))"
   ]
  },
  {
   "cell_type": "code",
   "execution_count": 17,
   "metadata": {},
   "outputs": [
    {
     "data": {
      "application/vnd.jupyter.widget-view+json": {
       "model_id": "c0c0012036e844ed9cb626a097fd8c1e",
       "version_major": 2,
       "version_minor": 0
      },
      "text/plain": [
       "HBox(children=(IntProgress(value=0, max=18953), HTML(value='')))"
      ]
     },
     "metadata": {},
     "output_type": "display_data"
    }
   ],
   "source": [
    "import ipdb\n",
    "filter_setores = {}\n",
    "for i, row in tqdm_notebook(df_setores_renda.iterrows(), total=df_setores_renda.shape[0]):\n",
    "    geom_wkt = loads(row.geom)\n",
    "    min_lng, min_lat, max_lng, max_lat = geom_wkt.bounds\n",
    "    if min_lat >= -23.670678596888536 and max_lat <= -23.518934480410948 and min_lng >= -46.753430334061164 and max_lng <= -46.585715145514996:\n",
    "        filter_setores[i] = row"
   ]
  },
  {
   "cell_type": "code",
   "execution_count": 18,
   "metadata": {},
   "outputs": [],
   "source": [
    "df_filter_setores = pd.DataFrame.from_dict(filter_setores, orient='index')"
   ]
  },
  {
   "cell_type": "code",
   "execution_count": 19,
   "metadata": {},
   "outputs": [
    {
     "data": {
      "text/plain": [
       "(5527, 5)"
      ]
     },
     "execution_count": 19,
     "metadata": {},
     "output_type": "execute_result"
    }
   ],
   "source": [
    "df_filter_setores.shape"
   ]
  },
  {
   "cell_type": "code",
   "execution_count": 23,
   "metadata": {},
   "outputs": [],
   "source": [
    "df_filter_setores.reset_index(drop=True, inplace=True)"
   ]
  },
  {
   "cell_type": "code",
   "execution_count": 24,
   "metadata": {},
   "outputs": [
    {
     "data": {
      "text/plain": [
       "Index(['id', 'renda_nominal', 'domicilios', 'renda_media', 'geom'], dtype='object')"
      ]
     },
     "execution_count": 24,
     "metadata": {},
     "output_type": "execute_result"
    }
   ],
   "source": [
    "df_filter_setores.columns"
   ]
  },
  {
   "cell_type": "code",
   "execution_count": 25,
   "metadata": {},
   "outputs": [
    {
     "data": {
      "text/plain": [
       "Index(['renda_nominal', 'domicilios', 'renda_media'], dtype='object')"
      ]
     },
     "execution_count": 25,
     "metadata": {},
     "output_type": "execute_result"
    }
   ],
   "source": [
    "df_filter_setores.columns[1:-1]"
   ]
  },
  {
   "cell_type": "code",
   "execution_count": 33,
   "metadata": {},
   "outputs": [],
   "source": [
    "for col in df_filter_setores.columns[1:-1]:\n",
    "    df_filter_setores[col] = df_filter_setores.apply(lambda x: x[col]/df_filter_setores[col].max(), axis=1)"
   ]
  },
  {
   "cell_type": "code",
   "execution_count": 35,
   "metadata": {},
   "outputs": [
    {
     "data": {
      "text/html": [
       "<div>\n",
       "<style scoped>\n",
       "    .dataframe tbody tr th:only-of-type {\n",
       "        vertical-align: middle;\n",
       "    }\n",
       "\n",
       "    .dataframe tbody tr th {\n",
       "        vertical-align: top;\n",
       "    }\n",
       "\n",
       "    .dataframe thead th {\n",
       "        text-align: right;\n",
       "    }\n",
       "</style>\n",
       "<table border=\"1\" class=\"dataframe\">\n",
       "  <thead>\n",
       "    <tr style=\"text-align: right;\">\n",
       "      <th></th>\n",
       "      <th>renda_nominal</th>\n",
       "      <th>domicilios</th>\n",
       "      <th>renda_media</th>\n",
       "    </tr>\n",
       "  </thead>\n",
       "  <tbody>\n",
       "    <tr>\n",
       "      <th>count</th>\n",
       "      <td>5527.000000</td>\n",
       "      <td>5527.000000</td>\n",
       "      <td>5527.000000</td>\n",
       "    </tr>\n",
       "    <tr>\n",
       "      <th>mean</th>\n",
       "      <td>0.092253</td>\n",
       "      <td>0.209384</td>\n",
       "      <td>0.060115</td>\n",
       "    </tr>\n",
       "    <tr>\n",
       "      <th>std</th>\n",
       "      <td>0.086033</td>\n",
       "      <td>0.099630</td>\n",
       "      <td>0.052723</td>\n",
       "    </tr>\n",
       "    <tr>\n",
       "      <th>min</th>\n",
       "      <td>0.000000</td>\n",
       "      <td>0.000000</td>\n",
       "      <td>0.000000</td>\n",
       "    </tr>\n",
       "    <tr>\n",
       "      <th>25%</th>\n",
       "      <td>0.031277</td>\n",
       "      <td>0.143016</td>\n",
       "      <td>0.022063</td>\n",
       "    </tr>\n",
       "    <tr>\n",
       "      <th>50%</th>\n",
       "      <td>0.066065</td>\n",
       "      <td>0.203991</td>\n",
       "      <td>0.045296</td>\n",
       "    </tr>\n",
       "    <tr>\n",
       "      <th>75%</th>\n",
       "      <td>0.128082</td>\n",
       "      <td>0.266075</td>\n",
       "      <td>0.085091</td>\n",
       "    </tr>\n",
       "    <tr>\n",
       "      <th>max</th>\n",
       "      <td>1.000000</td>\n",
       "      <td>1.000000</td>\n",
       "      <td>1.000000</td>\n",
       "    </tr>\n",
       "  </tbody>\n",
       "</table>\n",
       "</div>"
      ],
      "text/plain": [
       "       renda_nominal   domicilios  renda_media\n",
       "count    5527.000000  5527.000000  5527.000000\n",
       "mean        0.092253     0.209384     0.060115\n",
       "std         0.086033     0.099630     0.052723\n",
       "min         0.000000     0.000000     0.000000\n",
       "25%         0.031277     0.143016     0.022063\n",
       "50%         0.066065     0.203991     0.045296\n",
       "75%         0.128082     0.266075     0.085091\n",
       "max         1.000000     1.000000     1.000000"
      ]
     },
     "execution_count": 35,
     "metadata": {},
     "output_type": "execute_result"
    }
   ],
   "source": [
    "df_filter_setores.describe()"
   ]
  },
  {
   "cell_type": "code",
   "execution_count": 36,
   "metadata": {},
   "outputs": [],
   "source": [
    "df_filter_setores.to_csv('setores_teste.csv', index=False)"
   ]
  },
  {
   "cell_type": "code",
   "execution_count": 55,
   "metadata": {},
   "outputs": [
    {
     "data": {
      "text/html": [
       "<div>\n",
       "<style scoped>\n",
       "    .dataframe tbody tr th:only-of-type {\n",
       "        vertical-align: middle;\n",
       "    }\n",
       "\n",
       "    .dataframe tbody tr th {\n",
       "        vertical-align: top;\n",
       "    }\n",
       "\n",
       "    .dataframe thead th {\n",
       "        text-align: right;\n",
       "    }\n",
       "</style>\n",
       "<table border=\"1\" class=\"dataframe\">\n",
       "  <thead>\n",
       "    <tr style=\"text-align: right;\">\n",
       "      <th></th>\n",
       "      <th>id</th>\n",
       "      <th>renda_nominal</th>\n",
       "      <th>domicilios</th>\n",
       "      <th>renda_media</th>\n",
       "      <th>geom</th>\n",
       "    </tr>\n",
       "  </thead>\n",
       "  <tbody>\n",
       "    <tr>\n",
       "      <th>0</th>\n",
       "      <td>355030838000173</td>\n",
       "      <td>0.062509</td>\n",
       "      <td>0.201774</td>\n",
       "      <td>0.041556</td>\n",
       "      <td>POLYGON ((-46.6689474 -23.65285023, -46.668642...</td>\n",
       "    </tr>\n",
       "    <tr>\n",
       "      <th>1</th>\n",
       "      <td>355030816000089</td>\n",
       "      <td>0.216153</td>\n",
       "      <td>0.391353</td>\n",
       "      <td>0.074088</td>\n",
       "      <td>MULTIPOLYGON (((-46.68698916 -23.655582, -46.6...</td>\n",
       "    </tr>\n",
       "    <tr>\n",
       "      <th>2</th>\n",
       "      <td>355030894000171</td>\n",
       "      <td>0.044969</td>\n",
       "      <td>0.109756</td>\n",
       "      <td>0.054959</td>\n",
       "      <td>POLYGON ((-46.72909908 -23.60329497, -46.72910...</td>\n",
       "    </tr>\n",
       "    <tr>\n",
       "      <th>3</th>\n",
       "      <td>355030868000139</td>\n",
       "      <td>0.032546</td>\n",
       "      <td>0.235033</td>\n",
       "      <td>0.018575</td>\n",
       "      <td>MULTIPOLYGON (((-46.60154784 -23.64993702, -46...</td>\n",
       "    </tr>\n",
       "    <tr>\n",
       "      <th>4</th>\n",
       "      <td>355030845000024</td>\n",
       "      <td>0.244388</td>\n",
       "      <td>0.290466</td>\n",
       "      <td>0.112860</td>\n",
       "      <td>POLYGON ((-46.66478292 -23.56843302, -46.66573...</td>\n",
       "    </tr>\n",
       "    <tr>\n",
       "      <th>5</th>\n",
       "      <td>355030815000056</td>\n",
       "      <td>0.146479</td>\n",
       "      <td>0.236142</td>\n",
       "      <td>0.083207</td>\n",
       "      <td>POLYGON ((-46.66403736 -23.62046004, -46.66418...</td>\n",
       "    </tr>\n",
       "    <tr>\n",
       "      <th>6</th>\n",
       "      <td>355030838000042</td>\n",
       "      <td>0.051849</td>\n",
       "      <td>0.218404</td>\n",
       "      <td>0.031844</td>\n",
       "      <td>POLYGON ((-46.65520116 -23.64957198, -46.65564...</td>\n",
       "    </tr>\n",
       "    <tr>\n",
       "      <th>7</th>\n",
       "      <td>355030809000025</td>\n",
       "      <td>0.022999</td>\n",
       "      <td>0.185144</td>\n",
       "      <td>0.016663</td>\n",
       "      <td>POLYGON ((-46.62672372 -23.53393242, -46.62699...</td>\n",
       "    </tr>\n",
       "    <tr>\n",
       "      <th>8</th>\n",
       "      <td>355030877000070</td>\n",
       "      <td>0.118396</td>\n",
       "      <td>0.300443</td>\n",
       "      <td>0.052861</td>\n",
       "      <td>POLYGON ((-46.64421108 -23.606757, -46.6441459...</td>\n",
       "    </tr>\n",
       "    <tr>\n",
       "      <th>9</th>\n",
       "      <td>355030894000001</td>\n",
       "      <td>0.012871</td>\n",
       "      <td>0.079823</td>\n",
       "      <td>0.021629</td>\n",
       "      <td>POLYGON ((-46.73806092 -23.59727703, -46.73856...</td>\n",
       "    </tr>\n",
       "  </tbody>\n",
       "</table>\n",
       "</div>"
      ],
      "text/plain": [
       "                id  renda_nominal  domicilios  renda_media  \\\n",
       "0  355030838000173       0.062509    0.201774     0.041556   \n",
       "1  355030816000089       0.216153    0.391353     0.074088   \n",
       "2  355030894000171       0.044969    0.109756     0.054959   \n",
       "3  355030868000139       0.032546    0.235033     0.018575   \n",
       "4  355030845000024       0.244388    0.290466     0.112860   \n",
       "5  355030815000056       0.146479    0.236142     0.083207   \n",
       "6  355030838000042       0.051849    0.218404     0.031844   \n",
       "7  355030809000025       0.022999    0.185144     0.016663   \n",
       "8  355030877000070       0.118396    0.300443     0.052861   \n",
       "9  355030894000001       0.012871    0.079823     0.021629   \n",
       "\n",
       "                                                geom  \n",
       "0  POLYGON ((-46.6689474 -23.65285023, -46.668642...  \n",
       "1  MULTIPOLYGON (((-46.68698916 -23.655582, -46.6...  \n",
       "2  POLYGON ((-46.72909908 -23.60329497, -46.72910...  \n",
       "3  MULTIPOLYGON (((-46.60154784 -23.64993702, -46...  \n",
       "4  POLYGON ((-46.66478292 -23.56843302, -46.66573...  \n",
       "5  POLYGON ((-46.66403736 -23.62046004, -46.66418...  \n",
       "6  POLYGON ((-46.65520116 -23.64957198, -46.65564...  \n",
       "7  POLYGON ((-46.62672372 -23.53393242, -46.62699...  \n",
       "8  POLYGON ((-46.64421108 -23.606757, -46.6441459...  \n",
       "9  POLYGON ((-46.73806092 -23.59727703, -46.73856...  "
      ]
     },
     "execution_count": 55,
     "metadata": {},
     "output_type": "execute_result"
    }
   ],
   "source": [
    "df_filter_setores.head(10)"
   ]
  },
  {
   "cell_type": "code",
   "execution_count": 39,
   "metadata": {},
   "outputs": [],
   "source": [
    "import pyproj\n",
    "from functools import partial\n",
    "from shapely.geometry import Polygon, Point\n",
    "from shapely.ops import transform\n",
    "\n",
    "def geodesic_point_buffer(lat, lon, meters):\n",
    "    proj_wgs84 = pyproj.Proj(init='epsg:4326')\n",
    "    aeqd_proj = '+proj=aeqd +lat_0={lat} +lon_0={lon} +x_0=0 +y_0=0'\n",
    "    project = partial(pyproj.transform, pyproj.Proj(aeqd_proj.format(\n",
    "        lat=lat, lon=lon)), proj_wgs84)\n",
    "    buf = Point(0, 0).buffer(meters)\n",
    "    return Polygon(transform(project, buf).exterior.coords[:])"
   ]
  },
  {
   "cell_type": "code",
   "execution_count": 40,
   "metadata": {},
   "outputs": [
    {
     "data": {
      "image/svg+xml": [
       "<svg xmlns=\"http://www.w3.org/2000/svg\" xmlns:xlink=\"http://www.w3.org/1999/xlink\" width=\"100.0\" height=\"100.0\" viewBox=\"-46.689958049036036 -23.566749150920813 0.0105785580720692 0.009812784462095436\" preserveAspectRatio=\"xMinYMin meet\"><g transform=\"matrix(1,0,0,-1,0,-47.12368551737953)\"><path fill-rule=\"evenodd\" fill=\"#66cc99\" stroke=\"#555555\" stroke-width=\"0.000211571161441384\" opacity=\"0.6\" d=\"M -46.67977128941108,-23.561842682871493 L -46.67979485579539,-23.56228519117166 L -46.6798653611076,-23.56272343931089 L -46.6799821267951,-23.563153206657933 L -46.68014402875712,-23.563570354217454 L -46.68034950815449,-23.563970864494653 L -46.68059658640807,-23.564350880191203 L -46.68088288424196,-23.564706741359462 L -46.681205644588744,-23.56503502065701 L -46.68156175913621,-23.565332556361763 L -46.681947798260346,-23.565596482829214 L -46.68236004405629,-23.56582425809836 L -46.68279452614899,-23.56601368838004 L -46.6832470599387,-23.566162949191636 L -46.68371328691246,-23.566270602934118 L -46.68418871663296,-23.56633561274218 L -46.68466877,-23.5663573524737 L -46.685148823367044,-23.566335612742183 L -46.685624253087546,-23.566270602934114 L -46.6860904800613,-23.566162949191636 L -46.68654301385101,-23.56601368838004 L -46.686977495943715,-23.565824258098356 L -46.68738974173966,-23.565596482829214 L -46.6877757808638,-23.565332556361763 L -46.68813189541126,-23.565035020657014 L -46.68845465575804,-23.56470674135946 L -46.68874095359193,-23.564350880191206 L -46.68898803184551,-23.563970864494653 L -46.689193511242884,-23.563570354217447 L -46.6893554132049,-23.563153206657933 L -46.6894721788924,-23.56272343931089 L -46.68954268420461,-23.56228519117166 L -46.689566250588925,-23.561842682871493 L -46.68954265155826,-23.561400176028155 L -46.689472114854276,-23.560961932203423 L -46.68935532023596,-23.560532171862732 L -46.689193392915854,-23.560115033732192 L -46.68898789270764,-23.559714534944227 L -46.68874079899021,-23.559334532355653 L -46.68845449163372,-23.558978685410388 L -46.688131728071575,-23.558650420904243 L -46.6877756167395,-23.558352899990897 L -46.687389587137936,-23.558088987746434 L -46.68697735680584,-23.557861225585278 L -46.68654289552397,-23.55767180679283 L -46.68609038709234,-23.557522555410202 L -46.68562418904942,-23.557414908674087 L -46.68514879072069,-23.55734990318052 L -46.68466877,-23.557328164905833 L -46.684188749279315,-23.55734990318052 L -46.68371335095059,-23.55741490867409 L -46.68324715290767,-23.557522555410205 L -46.68279464447603,-23.557671806792825 L -46.68236018319416,-23.557861225585274 L -46.68194795286207,-23.558088987746434 L -46.681561923260524,-23.5583528999909 L -46.681205811928436,-23.558650420904247 L -46.680883048366276,-23.558978685410384 L -46.680596741009786,-23.559334532355653 L -46.68034964729237,-23.559714534944227 L -46.68014414708415,-23.560115033732192 L -46.67998221976405,-23.560532171862736 L -46.679865425145735,-23.560961932203426 L -46.67979488844174,-23.561400176028148 L -46.67977128941108,-23.561842682871493 L -46.67977128941108,-23.561842682871493 z\" /></g></svg>"
      ],
      "text/plain": [
       "<shapely.geometry.polygon.Polygon at 0x7f7b24f73e80>"
      ]
     },
     "execution_count": 40,
     "metadata": {},
     "output_type": "execute_result"
    }
   ],
   "source": [
    "isocota1 = geodesic_point_buffer(-23.56184276, -46.68466877, 500)\n",
    "isocota1"
   ]
  },
  {
   "cell_type": "code",
   "execution_count": 41,
   "metadata": {},
   "outputs": [],
   "source": [
    "from tqdm import tqdm_notebook"
   ]
  },
  {
   "cell_type": "code",
   "execution_count": 43,
   "metadata": {
    "scrolled": false
   },
   "outputs": [
    {
     "data": {
      "application/vnd.jupyter.widget-view+json": {
       "model_id": "78ccc40745514b1f8767a8326b494860",
       "version_major": 2,
       "version_minor": 0
      },
      "text/plain": [
       "HBox(children=(IntProgress(value=0, max=5527), HTML(value='')))"
      ]
     },
     "metadata": {},
     "output_type": "display_data"
    }
   ],
   "source": [
    "geoms = []\n",
    "for i, data in tqdm_notebook(df_filter_setores.iterrows(), total=df_filter_setores.shape[0]):\n",
    "    geom_wkt = loads(data.geom)\n",
    "    if geom_wkt.intersects(isocota1):\n",
    "        geoms.append(data)\n",
    "df_instersects = pd.DataFrame(geoms)"
   ]
  },
  {
   "cell_type": "code",
   "execution_count": 44,
   "metadata": {},
   "outputs": [
    {
     "data": {
      "text/html": [
       "<div>\n",
       "<style scoped>\n",
       "    .dataframe tbody tr th:only-of-type {\n",
       "        vertical-align: middle;\n",
       "    }\n",
       "\n",
       "    .dataframe tbody tr th {\n",
       "        vertical-align: top;\n",
       "    }\n",
       "\n",
       "    .dataframe thead th {\n",
       "        text-align: right;\n",
       "    }\n",
       "</style>\n",
       "<table border=\"1\" class=\"dataframe\">\n",
       "  <thead>\n",
       "    <tr style=\"text-align: right;\">\n",
       "      <th></th>\n",
       "      <th>id</th>\n",
       "      <th>renda_nominal</th>\n",
       "      <th>domicilios</th>\n",
       "      <th>renda_media</th>\n",
       "      <th>geom</th>\n",
       "    </tr>\n",
       "  </thead>\n",
       "  <tbody>\n",
       "    <tr>\n",
       "      <th>0</th>\n",
       "      <td>355030862000062</td>\n",
       "      <td>0.177098</td>\n",
       "      <td>0.223947</td>\n",
       "      <td>0.106077</td>\n",
       "      <td>POLYGON ((-46.68241608 -23.56306497, -46.68165...</td>\n",
       "    </tr>\n",
       "    <tr>\n",
       "      <th>1</th>\n",
       "      <td>355030862000017</td>\n",
       "      <td>0.102019</td>\n",
       "      <td>0.169623</td>\n",
       "      <td>0.080677</td>\n",
       "      <td>POLYGON ((-46.68720192 -23.56591797, -46.68782...</td>\n",
       "    </tr>\n",
       "    <tr>\n",
       "      <th>2</th>\n",
       "      <td>355030862000003</td>\n",
       "      <td>0.053522</td>\n",
       "      <td>0.117517</td>\n",
       "      <td>0.061092</td>\n",
       "      <td>POLYGON ((-46.68867684 -23.56185897, -46.68772...</td>\n",
       "    </tr>\n",
       "    <tr>\n",
       "      <th>3</th>\n",
       "      <td>355030862000134</td>\n",
       "      <td>0.129978</td>\n",
       "      <td>0.189579</td>\n",
       "      <td>0.091968</td>\n",
       "      <td>POLYGON ((-46.6843212 -23.56420563, -46.684625...</td>\n",
       "    </tr>\n",
       "    <tr>\n",
       "      <th>4</th>\n",
       "      <td>355030862000126</td>\n",
       "      <td>0.109009</td>\n",
       "      <td>0.222838</td>\n",
       "      <td>0.065619</td>\n",
       "      <td>POLYGON ((-46.68964812 -23.56244298, -46.68952...</td>\n",
       "    </tr>\n",
       "  </tbody>\n",
       "</table>\n",
       "</div>"
      ],
      "text/plain": [
       "                id  renda_nominal  domicilios  renda_media  \\\n",
       "0  355030862000062       0.177098    0.223947     0.106077   \n",
       "1  355030862000017       0.102019    0.169623     0.080677   \n",
       "2  355030862000003       0.053522    0.117517     0.061092   \n",
       "3  355030862000134       0.129978    0.189579     0.091968   \n",
       "4  355030862000126       0.109009    0.222838     0.065619   \n",
       "\n",
       "                                                geom  \n",
       "0  POLYGON ((-46.68241608 -23.56306497, -46.68165...  \n",
       "1  POLYGON ((-46.68720192 -23.56591797, -46.68782...  \n",
       "2  POLYGON ((-46.68867684 -23.56185897, -46.68772...  \n",
       "3  POLYGON ((-46.6843212 -23.56420563, -46.684625...  \n",
       "4  POLYGON ((-46.68964812 -23.56244298, -46.68952...  "
      ]
     },
     "execution_count": 44,
     "metadata": {},
     "output_type": "execute_result"
    }
   ],
   "source": [
    "df_instersects.reset_index(drop=True, inplace=True)\n",
    "df_instersects.head()"
   ]
  },
  {
   "cell_type": "code",
   "execution_count": 45,
   "metadata": {},
   "outputs": [
    {
     "data": {
      "image/svg+xml": [
       "<svg xmlns=\"http://www.w3.org/2000/svg\" xmlns:xlink=\"http://www.w3.org/1999/xlink\" width=\"100.0\" height=\"100.0\" viewBox=\"-46.6811684529844 -23.561606022984403 0.0014634122508425662 0.002278070578910274\" preserveAspectRatio=\"xMinYMin meet\"><g transform=\"matrix(1,0,0,-1,0,-47.120933975389896)\"><path fill-rule=\"evenodd\" fill=\"#66cc99\" stroke=\"#555555\" stroke-width=\"4.556141157820548e-05\" opacity=\"0.6\" d=\"M -46.68054615669642,-23.559412325389896 L -46.68034964729237,-23.559714534944227 L -46.68014414708415,-23.560115033732192 L -46.67998221976405,-23.560532171862736 L -46.679865425145735,-23.560961932203426 L -46.67979488844174,-23.561400176028148 L -46.67978941371796,-23.561502832903017 L -46.67982084,-23.56152165 L -46.68108408,-23.55973992 L -46.68054615669642,-23.559412325389896 z\" /></g></svg>"
      ],
      "text/plain": [
       "<shapely.geometry.polygon.Polygon at 0x7f7b25144048>"
      ]
     },
     "execution_count": 45,
     "metadata": {},
     "output_type": "execute_result"
    }
   ],
   "source": [
    "isocota1.intersection(loads(df_instersects.geom[25]))"
   ]
  },
  {
   "cell_type": "code",
   "execution_count": 46,
   "metadata": {},
   "outputs": [
    {
     "data": {
      "text/plain": [
       "33.416282057011706"
      ]
     },
     "execution_count": 46,
     "metadata": {},
     "output_type": "execute_result"
    }
   ],
   "source": [
    "isocota1.intersection(loads(df_instersects.geom[25])).area/loads(df_instersects.geom[25]).area*100"
   ]
  },
  {
   "cell_type": "code",
   "execution_count": 47,
   "metadata": {},
   "outputs": [
    {
     "data": {
      "application/vnd.jupyter.widget-view+json": {
       "model_id": "1f89f73e8caf453595fdda34687b328f",
       "version_major": 2,
       "version_minor": 0
      },
      "text/plain": [
       "HBox(children=(IntProgress(value=0, max=59), HTML(value='')))"
      ]
     },
     "metadata": {},
     "output_type": "display_data"
    }
   ],
   "source": [
    "for i, data in tqdm_notebook(df_instersects.iterrows(), total=df_instersects.shape[0]):\n",
    "    rendas_sum = 0\n",
    "    domicilios_sum = 0\n",
    "    proportion = isocota1.intersection(loads(df_instersects.geom[i])).area/loads(df_instersects.geom[i]).area\n",
    "    rendas_sum += proportion*df_instersects['renda_nominal'].loc[i]\n",
    "    domicilios_sum += proportion*df_instersects['domicilios'].loc[i]\n",
    "    buffer = pd.Series()\n",
    "    buffer['geom'] = isocota1.wkt\n",
    "    buffer['renda_nominal'] = rendas_sum\n",
    "    buffer['domicilios'] = domicilios_sum\n",
    "buffer['renda_media'] = buffer['renda_nominal']/buffer['domicilios']"
   ]
  },
  {
   "cell_type": "code",
   "execution_count": 48,
   "metadata": {},
   "outputs": [
    {
     "data": {
      "text/plain": [
       "geom             POLYGON ((-46.67977128941108 -23.5618426828714...\n",
       "renda_nominal                                              0.11153\n",
       "domicilios                                                0.272727\n",
       "renda_media                                               0.408942\n",
       "dtype: object"
      ]
     },
     "execution_count": 48,
     "metadata": {},
     "output_type": "execute_result"
    }
   ],
   "source": [
    "buffer"
   ]
  },
  {
   "cell_type": "code",
   "execution_count": 49,
   "metadata": {},
   "outputs": [],
   "source": [
    "coords = {0: {'lat': -23.57883506, 'lng': -46.68939816}, \n",
    "          1: {'lat': -23.55447951, 'lng': -46.64217924}, \n",
    "          2: {'lat': -23.53939352, 'lng': -46.69291126}}"
   ]
  },
  {
   "cell_type": "code",
   "execution_count": 50,
   "metadata": {},
   "outputs": [],
   "source": [
    "df_buffers = pd.DataFrame.from_dict(coords, orient='index')"
   ]
  },
  {
   "cell_type": "code",
   "execution_count": 51,
   "metadata": {},
   "outputs": [
    {
     "data": {
      "text/html": [
       "<div>\n",
       "<style scoped>\n",
       "    .dataframe tbody tr th:only-of-type {\n",
       "        vertical-align: middle;\n",
       "    }\n",
       "\n",
       "    .dataframe tbody tr th {\n",
       "        vertical-align: top;\n",
       "    }\n",
       "\n",
       "    .dataframe thead th {\n",
       "        text-align: right;\n",
       "    }\n",
       "</style>\n",
       "<table border=\"1\" class=\"dataframe\">\n",
       "  <thead>\n",
       "    <tr style=\"text-align: right;\">\n",
       "      <th></th>\n",
       "      <th>lat</th>\n",
       "      <th>lng</th>\n",
       "    </tr>\n",
       "  </thead>\n",
       "  <tbody>\n",
       "    <tr>\n",
       "      <th>0</th>\n",
       "      <td>-23.578835</td>\n",
       "      <td>-46.689398</td>\n",
       "    </tr>\n",
       "    <tr>\n",
       "      <th>1</th>\n",
       "      <td>-23.554480</td>\n",
       "      <td>-46.642179</td>\n",
       "    </tr>\n",
       "    <tr>\n",
       "      <th>2</th>\n",
       "      <td>-23.539394</td>\n",
       "      <td>-46.692911</td>\n",
       "    </tr>\n",
       "  </tbody>\n",
       "</table>\n",
       "</div>"
      ],
      "text/plain": [
       "         lat        lng\n",
       "0 -23.578835 -46.689398\n",
       "1 -23.554480 -46.642179\n",
       "2 -23.539394 -46.692911"
      ]
     },
     "execution_count": 51,
     "metadata": {},
     "output_type": "execute_result"
    }
   ],
   "source": [
    "df_buffers"
   ]
  },
  {
   "cell_type": "code",
   "execution_count": 57,
   "metadata": {},
   "outputs": [
    {
     "data": {
      "application/vnd.jupyter.widget-view+json": {
       "model_id": "febc8ab29c58471f947d20faaa97dd32",
       "version_major": 2,
       "version_minor": 0
      },
      "text/plain": [
       "HBox(children=(IntProgress(value=0, max=3), HTML(value='')))"
      ]
     },
     "metadata": {},
     "output_type": "display_data"
    },
    {
     "data": {
      "application/vnd.jupyter.widget-view+json": {
       "model_id": "709c4f0dd9f24d42b4f1f25a5d9f4701",
       "version_major": 2,
       "version_minor": 0
      },
      "text/plain": [
       "HBox(children=(IntProgress(value=0, max=5527), HTML(value='')))"
      ]
     },
     "metadata": {},
     "output_type": "display_data"
    },
    {
     "data": {
      "application/vnd.jupyter.widget-view+json": {
       "model_id": "d9688d07d6b345cdbdc2c199284d6eaf",
       "version_major": 2,
       "version_minor": 0
      },
      "text/plain": [
       "HBox(children=(IntProgress(value=0, max=5527), HTML(value='')))"
      ]
     },
     "metadata": {},
     "output_type": "display_data"
    },
    {
     "data": {
      "application/vnd.jupyter.widget-view+json": {
       "model_id": "2a24c26290db4d0aa57ba9355dbf7854",
       "version_major": 2,
       "version_minor": 0
      },
      "text/plain": [
       "HBox(children=(IntProgress(value=0, max=5527), HTML(value='')))"
      ]
     },
     "metadata": {},
     "output_type": "display_data"
    }
   ],
   "source": [
    "for i_buffer, coord in tqdm_notebook(df_buffers.iterrows(), total=df_buffers.shape[0]):\n",
    "    rendas = np.zeros((df_filter_setores.shape[0],))\n",
    "    domicilios = np.zeros((df_filter_setores.shape[0],))\n",
    "    lat = coord['lat']\n",
    "    lng = coord['lng']\n",
    "    isocota = geodesic_point_buffer(lat, lng, 500)\n",
    "    df_buffers.loc[i_buffer, 'geom'] = isocota.wkt\n",
    "    for i, data in tqdm_notebook(df_filter_setores.iterrows(), total=df_filter_setores.shape[0]):\n",
    "        if loads(data.geom).intersects(isocota):\n",
    "            proportion = loads(data.geom).intersection(isocota).area/loads(data.geom).area\n",
    "            rendas[i] = proportion*df_filter_setores['renda_nominal'].loc[i]\n",
    "            domicilios[i] = proportion*df_filter_setores['domicilios'].loc[i]\n",
    "    df_buffers.loc[i_buffer, 'renda_nominal'] = rendas.sum()\n",
    "    df_buffers.loc[i_buffer, 'domicilios'] = domicilios.sum()\n",
    "df_buffers['renda_media'] = df_buffers['renda_nominal']/df_buffers['domicilios']"
   ]
  },
  {
   "cell_type": "code",
   "execution_count": 58,
   "metadata": {},
   "outputs": [
    {
     "data": {
      "text/html": [
       "<div>\n",
       "<style scoped>\n",
       "    .dataframe tbody tr th:only-of-type {\n",
       "        vertical-align: middle;\n",
       "    }\n",
       "\n",
       "    .dataframe tbody tr th {\n",
       "        vertical-align: top;\n",
       "    }\n",
       "\n",
       "    .dataframe thead th {\n",
       "        text-align: right;\n",
       "    }\n",
       "</style>\n",
       "<table border=\"1\" class=\"dataframe\">\n",
       "  <thead>\n",
       "    <tr style=\"text-align: right;\">\n",
       "      <th></th>\n",
       "      <th>lat</th>\n",
       "      <th>lng</th>\n",
       "      <th>geom</th>\n",
       "      <th>renda_nominal</th>\n",
       "      <th>domicilios</th>\n",
       "      <th>renda_media</th>\n",
       "    </tr>\n",
       "  </thead>\n",
       "  <tbody>\n",
       "    <tr>\n",
       "      <th>0</th>\n",
       "      <td>-23.578835</td>\n",
       "      <td>-46.689398</td>\n",
       "      <td>POLYGON ((-46.68450004927194 -23.5788349828092...</td>\n",
       "      <td>4.183443</td>\n",
       "      <td>2.317615</td>\n",
       "      <td>1.805064</td>\n",
       "    </tr>\n",
       "    <tr>\n",
       "      <th>1</th>\n",
       "      <td>-23.554480</td>\n",
       "      <td>-46.642179</td>\n",
       "      <td>POLYGON ((-46.63728203228463 -23.5544794328984...</td>\n",
       "      <td>2.245681</td>\n",
       "      <td>11.946982</td>\n",
       "      <td>0.187971</td>\n",
       "    </tr>\n",
       "    <tr>\n",
       "      <th>2</th>\n",
       "      <td>-23.539394</td>\n",
       "      <td>-46.692911</td>\n",
       "      <td>POLYGON ((-46.68801461100713 -23.5393934429536...</td>\n",
       "      <td>1.579815</td>\n",
       "      <td>4.959211</td>\n",
       "      <td>0.318562</td>\n",
       "    </tr>\n",
       "  </tbody>\n",
       "</table>\n",
       "</div>"
      ],
      "text/plain": [
       "         lat        lng                                               geom  \\\n",
       "0 -23.578835 -46.689398  POLYGON ((-46.68450004927194 -23.5788349828092...   \n",
       "1 -23.554480 -46.642179  POLYGON ((-46.63728203228463 -23.5544794328984...   \n",
       "2 -23.539394 -46.692911  POLYGON ((-46.68801461100713 -23.5393934429536...   \n",
       "\n",
       "   renda_nominal  domicilios  renda_media  \n",
       "0       4.183443    2.317615     1.805064  \n",
       "1       2.245681   11.946982     0.187971  \n",
       "2       1.579815    4.959211     0.318562  "
      ]
     },
     "execution_count": 58,
     "metadata": {},
     "output_type": "execute_result"
    }
   ],
   "source": [
    "df_buffers"
   ]
  }
 ],
 "metadata": {
  "kernelspec": {
   "display_name": "Python 3.7",
   "language": "python",
   "name": "python3.7"
  },
  "language_info": {
   "codemirror_mode": {
    "name": "ipython",
    "version": 3
   },
   "file_extension": ".py",
   "mimetype": "text/x-python",
   "name": "python",
   "nbconvert_exporter": "python",
   "pygments_lexer": "ipython3",
   "version": "3.7.3"
  }
 },
 "nbformat": 4,
 "nbformat_minor": 2
}
